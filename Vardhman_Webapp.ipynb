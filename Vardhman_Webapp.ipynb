{
 "cells": [
  {
   "cell_type": "code",
   "execution_count": 18,
   "id": "cbb77197",
   "metadata": {
    "scrolled": false
   },
   "outputs": [],
   "source": [
    "#!jupyter nbextension enable --py widgetsnbextension --sys-prefix\n",
    "#!jupyter serverextension enable voila --sys-prefix"
   ]
  },
  {
   "cell_type": "markdown",
   "id": "7e3ce99c",
   "metadata": {},
   "source": [
    "# Vardhman Enterprises"
   ]
  },
  {
   "cell_type": "code",
   "execution_count": 70,
   "id": "edc87973",
   "metadata": {},
   "outputs": [],
   "source": [
    "from pushbullet import PushBullet\n",
    "from pywebio.input import *\n",
    "from pywebio.output import *\n",
    "from pywebio.session import *\n",
    "import requests\n",
    "import json\n"
   ]
  },
  {
   "cell_type": "code",
   "execution_count": 71,
   "id": "eeeded58",
   "metadata": {},
   "outputs": [],
   "source": [
    "import time\n",
    "import warnings\n",
    "warnings.filterwarnings('ignore')"
   ]
  },
  {
   "cell_type": "code",
   "execution_count": 72,
   "id": "183eac63",
   "metadata": {},
   "outputs": [],
   "source": [
    "import ipywidgets as widgets\n",
    "from IPython.display import display,clear_output"
   ]
  },
  {
   "cell_type": "code",
   "execution_count": 73,
   "id": "878a0e6d",
   "metadata": {},
   "outputs": [],
   "source": [
    "style = {'description_width': '150px','description_height':'150px'}"
   ]
  },
  {
   "cell_type": "code",
   "execution_count": 74,
   "id": "3c1d8434",
   "metadata": {},
   "outputs": [],
   "source": [
    "# Logo\n",
    "file = open('wgys.png','rb')\n",
    "image = file.read()\n",
    "image_headline = widgets.Image(\n",
    "                    value=image,\n",
    "                    format='png',\n",
    "                    width='200',\n",
    "                    height ='200',\n",
    "                    \n",
    "    \n",
    "    \n",
    "                )\n",
    "label_headline = widgets.Label(\n",
    "                    value='Sole Distributor of WGYS bearing',\n",
    "                    style={'description_width': '100px','description_height':'150px'}\n",
    "                )\n",
    "\n",
    "vbox_headline = widgets.VBox([image_headline, label_headline])"
   ]
  },
  {
   "cell_type": "code",
   "execution_count": 75,
   "id": "73cd9524",
   "metadata": {},
   "outputs": [],
   "source": [
    "#customer name\n",
    "customer = widgets.Text(\n",
    "    \n",
    "    placeholder='Type Name',\n",
    "    description='Cutomer Name:',\n",
    "    style = style,\n",
    "    disabled=False\n",
    ")"
   ]
  },
  {
   "cell_type": "code",
   "execution_count": 76,
   "id": "06a1e573",
   "metadata": {},
   "outputs": [],
   "source": [
    "#contact number\n",
    "C_number = widgets.IntText(\n",
    "    \n",
    "    description='Contact number:',\n",
    "    style = style,\n",
    "    disabled=False\n",
    ")"
   ]
  },
  {
   "cell_type": "code",
   "execution_count": 77,
   "id": "38589535",
   "metadata": {},
   "outputs": [],
   "source": [
    "#product selection 1\n",
    "tag1 = widgets.TagsInput(\n",
    "    description ='222 series:',\n",
    "    placeholder = 'Select size',\n",
    "    allowed_tags=['22230 MBW33C-3','22232 MBW33C-3','22234 MBW33C-3','22234 KMBW33C-3','22236 MBW33C-3',\n",
    "                  '22238 MBW33C-3','22238 KMBW33C-3','22240 MBW33C-3','22240 KMBW33C-3','22244 MBW33C-3',\n",
    "                  '22248 MBW33C-3'],\n",
    "    style = style,\n",
    "    allow_duplicates=False\n",
    ")"
   ]
  },
  {
   "cell_type": "code",
   "execution_count": 78,
   "id": "a73e6c1a",
   "metadata": {},
   "outputs": [],
   "source": [
    "#product selection 2\n",
    "tag2 = widgets.TagsInput(\n",
    "    description ='223 series:',\n",
    "    placeholder = 'Select size',\n",
    "    allowed_tags=['22326 MBW33C-3','22328 MBW33C-3','22330 MBW33C-3','22332 MBW33C-3','22332 KMBW33C-3',\n",
    "                  '22334 MBW33C-3','22336 MBW33C-3','22338 MBW33C-3','22338 KMBW33C-3','22340 MBW33C-3',\n",
    "                  '22340 KMBW33C-3','22344 MBW33C-3'],\n",
    "    style = style,\n",
    "    allow_duplicates=False\n",
    ")"
   ]
  },
  {
   "cell_type": "code",
   "execution_count": 79,
   "id": "905a9b0a",
   "metadata": {},
   "outputs": [],
   "source": [
    "#product selection 3\n",
    "tag3 = widgets.TagsInput(\n",
    "    description ='230 series:',\n",
    "    placeholder = 'Select size',\n",
    "    allowed_tags=['23038 MBW33C-3','23040 CA W33','23044 CA W33','23048 CA W33','23052 CA W33','23056 CA W33',\n",
    "                  '23060 ECA','23064 ECA','23068 ECA','23072 ECA','23080 ECA','23092 ECA'],\n",
    "    style = style,\n",
    "    allow_duplicates=False\n",
    ")"
   ]
  },
  {
   "cell_type": "code",
   "execution_count": 80,
   "id": "1122843f",
   "metadata": {},
   "outputs": [],
   "source": [
    "#product selection 4\n",
    "tag4 = widgets.TagsInput(\n",
    "    description ='231 series:',\n",
    "    placeholder = 'Select size',\n",
    "    allowed_tags=['23138 MBW33C-3','23140 MBW33C-3','23144 MBW33C-3','23148 MBW33C-3','23152 MBW33C-3','23156 MBW33C-3'],\n",
    "    style = style,\n",
    "    allow_duplicates=False\n",
    ")"
   ]
  },
  {
   "cell_type": "code",
   "execution_count": 81,
   "id": "c60effde",
   "metadata": {},
   "outputs": [],
   "source": [
    "#product selection 5\n",
    "tag5 = widgets.TagsInput(\n",
    "    description ='232 series:',\n",
    "    placeholder = 'Select size',\n",
    "    allowed_tags=['23240 MBW33C-3','23248 MBW33C-3','23256 MBW33C-3'],\n",
    "    style = style,\n",
    "    allow_duplicates=False\n",
    ")"
   ]
  },
  {
   "cell_type": "code",
   "execution_count": 82,
   "id": "7bfca01a",
   "metadata": {},
   "outputs": [],
   "source": [
    "#payment\n",
    "pay = widgets.Select(\n",
    "    options=['Cash', 'IMPS/NEFT', 'Cheque'],\n",
    "    value='Cash',\n",
    "    # rows=10,\n",
    "    description='Payment',\n",
    "    style = style,\n",
    "    disabled=False\n",
    ")"
   ]
  },
  {
   "cell_type": "code",
   "execution_count": 83,
   "id": "7ff7b64c",
   "metadata": {},
   "outputs": [],
   "source": [
    "#delivery date\n",
    "date = widgets.DatePicker(\n",
    "    description='Pick a Date',\n",
    "    style = style,\n",
    "    disabled=False\n",
    ")"
   ]
  },
  {
   "cell_type": "code",
   "execution_count": 84,
   "id": "facae09e",
   "metadata": {},
   "outputs": [],
   "source": [
    "# button send\n",
    "\n",
    "button_send = widgets.Button(\n",
    "                description='Send Enquiry',\n",
    "                tooltip='Send',\n",
    "                style={'description_width': 'initial'}\n",
    "            )\n",
    "\n",
    "output = widgets.Output()\n",
    "\n",
    "def ltos(s):\n",
    " \n",
    "    # initialize an empty string\n",
    "    str1 = \"\"\n",
    " \n",
    "    # traverse in the string\n",
    "    for ele in s:\n",
    "        str1 += ele\n",
    " \n",
    "    # return string\n",
    "    return str1\n",
    "\n",
    "def dtos(t):\n",
    "    return t.strftime('%d/%m/%Y')\n",
    "\n",
    "\n",
    "def pushbullet_noti(title, body):\n",
    "\n",
    "    TOKEN = 'paste access token first' # Pass your Access Token here\n",
    "# Make a dictionary that includes, title and body\n",
    "    msg = {\"type\": \"note\", \"title\": title, \"body\": body}\n",
    "# Sent a posts request\n",
    "    resp = requests.post('https://api.pushbullet.com/v2/pushes',\n",
    "                        data=json.dumps(msg),\n",
    "                        headers={'Authorization': 'Bearer ' + TOKEN,\n",
    "                                 'Content-Type': 'application/json'})\n",
    "    if resp.status_code != 200: # Check if fort message send with the help of status code\n",
    "        raise Exception('Error', resp.status_code)\n",
    "    else:\n",
    "        print('Message sent')\n",
    "def on_button_clicked(event):\n",
    "    with output:\n",
    "        body = (customer.value +'\\n'+str(C_number.value)+ltos(tag1.value)+' '+ltos(tag2.value)+' '+\n",
    "        ltos(tag3.value)+' '+ltos(tag4.value)+' '+ltos(tag5.value)+' '+pay.value+dtos(date.value))\n",
    "        title = \"New Enquiry\"\n",
    "        TOKEN = 'AT' # Pass your Access Token here\n",
    "        # Make a dictionary that includes, title and body\n",
    "        msg = {\"type\": \"note\", \"title\": title, \"body\": body}\n",
    "        # Sent a posts request\n",
    "        resp = requests.post('https://api.pushbullet.com/v2/pushes',\n",
    "                             data=json.dumps(msg),\n",
    "                             headers={'Authorization': 'Bearer ' + TOKEN,\n",
    "                                      'Content-Type': 'application/json'})\n",
    "        if resp.status_code != 200: # Check if fort message send with the help of status code\n",
    "            raise Exception('Error', resp.status_code)\n",
    "        else:\n",
    "            print('Message sent')\n",
    "            time.sleep(4)\n",
    "            clear_output()\n",
    "        \n",
    "       \n",
    "    \n",
    "button_send.on_click(on_button_clicked)\n",
    "\n",
    "vbox_result = widgets.VBox([button_send, output])"
   ]
  },
  {
   "cell_type": "code",
   "execution_count": 85,
   "id": "b32f29ee",
   "metadata": {},
   "outputs": [],
   "source": [
    "text_0 = widgets.HTML(value=\"<h1>Bearing Enquiry</h1>\")\n",
    "text_1 = widgets.HTML(value=\"<b6>222 Series:</b6>\")\n",
    "text_2 = widgets.HTML(value=\"<b3>223 Series:</b3>\")\n",
    "text_3 = widgets.HTML(value=\"<b3>230 Series:</b3>\")\n",
    "text_4 = widgets.HTML(value=\"<b3>231 Series:</b3>\")\n",
    "text_5 = widgets.HTML(value=\"<b3>232 Series:</b3>\")\n",
    "vbox_text = widgets.VBox([text_0, customer, C_number,text_1,tag1,text_2,tag2,text_3, tag3,\n",
    "                          text_4,tag4,text_5,tag5,pay,date, vbox_result])"
   ]
  },
  {
   "cell_type": "code",
   "execution_count": 86,
   "id": "62026138",
   "metadata": {},
   "outputs": [
    {
     "data": {
      "application/vnd.jupyter.widget-view+json": {
       "model_id": "a6300a7a299747478e1e25dda0f38a8c",
       "version_major": 2,
       "version_minor": 0
      },
      "text/plain": [
       "HBox(children=(VBox(children=(Image(value=b'\\x89PNG\\r\\n\\x1a\\n\\x00\\x00\\x00\\rIHDR\\x00\\x00\\x00w\\x00\\x00\\x00w\\x08\\…"
      ]
     },
     "metadata": {},
     "output_type": "display_data"
    }
   ],
   "source": [
    "page = widgets.HBox([vbox_headline, vbox_text])\n",
    "display(page)"
   ]
  },
  {
   "cell_type": "code",
   "execution_count": null,
   "id": "816923df",
   "metadata": {},
   "outputs": [],
   "source": []
  },
  {
   "cell_type": "code",
   "execution_count": null,
   "id": "03ab6098",
   "metadata": {},
   "outputs": [],
   "source": []
  },
  {
   "cell_type": "code",
   "execution_count": null,
   "id": "b995054f",
   "metadata": {},
   "outputs": [],
   "source": []
  }
 ],
 "metadata": {
  "kernelspec": {
   "display_name": "Python 3 (ipykernel)",
   "language": "python",
   "name": "python3"
  },
  "language_info": {
   "codemirror_mode": {
    "name": "ipython",
    "version": 3
   },
   "file_extension": ".py",
   "mimetype": "text/x-python",
   "name": "python",
   "nbconvert_exporter": "python",
   "pygments_lexer": "ipython3",
   "version": "3.10.9"
  }
 },
 "nbformat": 4,
 "nbformat_minor": 5
}
